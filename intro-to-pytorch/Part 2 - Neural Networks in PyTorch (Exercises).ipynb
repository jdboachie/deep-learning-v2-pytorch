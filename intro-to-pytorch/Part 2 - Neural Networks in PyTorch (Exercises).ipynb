{
 "cells": [
  {
   "cell_type": "markdown",
   "metadata": {},
   "source": [
    "# Neural networks with PyTorch\n",
    "\n",
    "Deep learning networks tend to be massive with dozens or hundreds of layers, that's where the term \"deep\" comes from. You can build one of these deep networks using only weight matrices as we did in the previous notebook, but in general it's very cumbersome and difficult to implement. PyTorch has a nice module `nn` that provides a nice way to efficiently build large neural networks."
   ]
  },
  {
   "cell_type": "code",
   "execution_count": 2,
   "metadata": {
    "collapsed": true
   },
   "outputs": [
    {
     "name": "stderr",
     "output_type": "stream",
     "text": [
      "c:\\Users\\User\\AppData\\Local\\Programs\\Python\\Python38\\lib\\site-packages\\tqdm\\auto.py:22: TqdmWarning: IProgress not found. Please update jupyter and ipywidgets. See https://ipywidgets.readthedocs.io/en/stable/user_install.html\n",
      "  from .autonotebook import tqdm as notebook_tqdm\n"
     ]
    }
   ],
   "source": [
    "# Import necessary packages\n",
    "\n",
    "%matplotlib inline\n",
    "%config InlineBackend.figure_format = 'retina'\n",
    "\n",
    "import numpy as np\n",
    "import torch\n",
    "\n",
    "import helper\n",
    "\n",
    "import matplotlib.pyplot as plt"
   ]
  },
  {
   "cell_type": "markdown",
   "metadata": {},
   "source": [
    "\n",
    "Now we're going to build a larger network that can solve a (formerly) difficult problem, identifying text in an image. Here we'll use the MNIST dataset which consists of greyscale handwritten digits. Each image is 28x28 pixels, you can see a sample below\n",
    "\n",
    "<img src='assets/mnist.png'>\n",
    "\n",
    "Our goal is to build a neural network that can take one of these images and predict the digit in the image.\n",
    "\n",
    "First up, we need to get our dataset. This is provided through the `torchvision` package. The code below will download the MNIST dataset, then create training and test datasets for us. Don't worry too much about the details here, you'll learn more about this later."
   ]
  },
  {
   "cell_type": "code",
   "execution_count": 3,
   "metadata": {},
   "outputs": [],
   "source": [
    "# The MNIST datasets are hosted on yann.lecun.com that has moved under CloudFlare protection\n",
    "# Run this script to enable the datasets download\n",
    "# Reference: https://github.com/pytorch/vision/issues/1938\n",
    "\n",
    "from six.moves import urllib\n",
    "opener = urllib.request.build_opener()\n",
    "opener.addheaders = [('User-agent', 'Mozilla/5.0')]\n",
    "urllib.request.install_opener(opener)"
   ]
  },
  {
   "cell_type": "code",
   "execution_count": 4,
   "metadata": {
    "collapsed": true
   },
   "outputs": [],
   "source": [
    "### Run this cell\n",
    "\n",
    "from torchvision import datasets, transforms\n",
    "\n",
    "# Define a transform to normalize the data\n",
    "transform = transforms.Compose([transforms.ToTensor(),\n",
    "                              transforms.Normalize((0.5,), (0.5,)),\n",
    "                              ])\n",
    "\n",
    "# Download and load the training data\n",
    "trainset = datasets.MNIST('~/.pytorch/MNIST_data/', download=True, train=True, transform=transform)\n",
    "trainloader = torch.utils.data.DataLoader(trainset, batch_size=64, shuffle=True)"
   ]
  },
  {
   "cell_type": "markdown",
   "metadata": {},
   "source": [
    "We have the training data loaded into `trainloader` and we make that an iterator with `iter(trainloader)`. Later, we'll use this to loop through the dataset for training, like\n",
    "\n",
    "```python\n",
    "for image, label in trainloader:\n",
    "    ## do things with images and labels\n",
    "```\n",
    "\n",
    "You'll notice I created the `trainloader` with a batch size of 64, and `shuffle=True`. The batch size is the number of images we get in one iteration from the data loader and pass through our network, often called a *batch*. And `shuffle=True` tells it to shuffle the dataset every time we start going through the data loader again. But here I'm just grabbing the first batch so we can check out the data. We can see below that `images` is just a tensor with size `(64, 1, 28, 28)`. So, 64 images per batch, 1 color channel, and 28x28 images."
   ]
  },
  {
   "cell_type": "code",
   "execution_count": 5,
   "metadata": {
    "collapsed": true
   },
   "outputs": [
    {
     "name": "stdout",
     "output_type": "stream",
     "text": [
      "<class 'torch.Tensor'>\n",
      "torch.Size([64, 1, 28, 28])\n",
      "torch.Size([64])\n"
     ]
    }
   ],
   "source": [
    "data_iter = iter(trainloader)\n",
    "images, labels = next(data_iter)\n",
    "print(type(images))\n",
    "print(images.shape)\n",
    "print(labels.shape)"
   ]
  },
  {
   "cell_type": "markdown",
   "metadata": {},
   "source": [
    "This is what one of the images looks like. "
   ]
  },
  {
   "cell_type": "code",
   "execution_count": 6,
   "metadata": {
    "collapsed": true
   },
   "outputs": [
    {
     "data": {
      "image/png": "[encoded data removed]",
      "text/plain": [
       "<Figure size 640x480 with 1 Axes>"
      ]
     },
     "metadata": {
      "image/png": {
       "height": 413,
       "width": 417
      }
     },
     "output_type": "display_data"
    }
   ],
   "source": [
    "plt.imshow(images[1].numpy().squeeze(), cmap='Greys_r');"
   ]
  },
  {
   "cell_type": "markdown",
   "metadata": {},
   "source": [
    "First, let's try to build a simple network for this dataset using weight matrices and matrix multiplications. Then, we'll see how to do it using PyTorch's `nn` module which provides a much more convenient and powerful method for defining network architectures.\n",
    "\n",
    "The networks you've seen so far are called *fully-connected* or *dense* networks. Each unit in one layer is connected to each unit in the next layer. In fully-connected networks, the input to each layer must be a one-dimensional vector (which can be stacked into a 2D tensor as a batch of multiple examples). However, our images are 28x28 2D tensors, so we need to convert them into 1D vectors. Thinking about sizes, we need to convert the batch of images with shape `(64, 1, 28, 28)` to a have a shape of `(64, 784)`, 784 is 28 times 28. This is typically called *flattening*, we flattened the 2D images into 1D vectors.\n",
    "\n",
    "Previously you built a network with one output unit. Here we need 10 output units, one for each digit. We want our network to predict the digit shown in an image, so what we'll do is calculate probabilities that the image is of any one digit or class. This ends up being a discrete probability distribution over the classes (digits) that tells us the most likely class for the image. That means we need 10 output units for the 10 classes (digits). We'll see how to convert the network output into a probability distribution next.\n",
    "\n",
    "> **Exercise:** Flatten the batch of images `images`. Then build a multi-layer network with 784 input units, 256 hidden units, and 10 output units using random tensors for the weights and biases. For now, use a sigmoid activation for the hidden layer. Leave the output layer without an activation, we'll add one that gives us a probability distribution next."
   ]
  },
  {
   "cell_type": "code",
   "execution_count": 8,
   "metadata": {
    "collapsed": true
   },
   "outputs": [
    {
     "data": {
      "text/plain": [
       "tensor([[1.2435e-03, 1.0000e+00, 1.0000e+00, 9.8923e-01, 9.7739e-06, 1.0000e+00,\n",
       "         6.6627e-01, 4.0878e-02, 1.0000e+00, 9.9997e-01],\n",
       "        [4.7278e-05, 9.8566e-01, 6.9332e-01, 9.9692e-01, 4.9737e-06, 9.4808e-01,\n",
       "         9.7369e-01, 3.1555e-01, 9.6312e-01, 1.0000e+00],\n",
       "        [1.0732e-01, 9.9999e-01, 2.7665e-01, 9.9898e-01, 1.2769e-04, 9.8873e-01,\n",
       "         9.9894e-01, 1.3320e-03, 9.9064e-01, 9.9988e-01],\n",
       "        [2.1782e-06, 9.9998e-01, 5.6579e-01, 9.9998e-01, 1.5796e-03, 1.2100e-04,\n",
       "         9.9274e-01, 2.2364e-03, 9.9853e-01, 1.0000e+00],\n",
       "        [8.3705e-05, 9.9134e-01, 9.9997e-01, 9.9997e-01, 5.8190e-07, 9.9991e-01,\n",
       "         5.6991e-01, 8.8270e-01, 1.0000e+00, 9.9979e-01],\n",
       "        [2.5632e-05, 1.5143e-03, 9.6831e-01, 9.9999e-01, 3.1000e-02, 5.5291e-03,\n",
       "         1.2449e-02, 9.7769e-01, 9.9857e-01, 9.9865e-01],\n",
       "        [7.4273e-05, 9.9975e-01, 9.8319e-01, 9.9938e-01, 4.4469e-05, 9.9996e-01,\n",
       "         6.2365e-01, 5.9530e-02, 1.0000e+00, 9.9830e-01],\n",
       "        [1.2751e-02, 9.9929e-01, 8.0657e-01, 1.0000e+00, 1.4411e-04, 7.7347e-04,\n",
       "         9.9954e-01, 1.4333e-02, 8.1444e-03, 9.9999e-01],\n",
       "        [8.5822e-01, 9.9878e-01, 1.0000e+00, 9.9957e-01, 8.3710e-06, 9.9989e-01,\n",
       "         3.3770e-02, 7.3987e-05, 9.9804e-01, 9.9999e-01],\n",
       "        [4.3032e-02, 9.9999e-01, 9.9384e-01, 9.9999e-01, 1.7749e-05, 9.8224e-01,\n",
       "         7.9883e-01, 8.4477e-03, 9.9997e-01, 9.9981e-01],\n",
       "        [1.4868e-01, 1.0000e+00, 9.7421e-01, 9.7538e-01, 3.4788e-05, 9.3000e-01,\n",
       "         9.7344e-01, 4.1139e-01, 9.9998e-01, 9.3683e-01],\n",
       "        [4.2491e-04, 1.0000e+00, 9.9988e-01, 3.3451e-02, 1.5807e-03, 2.1567e-01,\n",
       "         8.5756e-01, 1.8977e-01, 8.2257e-01, 9.9987e-01],\n",
       "        [4.8447e-01, 9.3217e-01, 9.9932e-01, 9.9979e-01, 1.8906e-04, 2.3068e-02,\n",
       "         4.2042e-01, 8.0451e-01, 9.1242e-01, 1.0000e+00],\n",
       "        [1.8616e-01, 9.9999e-01, 9.9647e-01, 1.0000e+00, 9.1174e-04, 9.7774e-01,\n",
       "         7.2167e-01, 2.1735e-01, 9.9995e-01, 9.9999e-01],\n",
       "        [7.1768e-06, 1.0000e+00, 9.5928e-01, 9.9867e-01, 2.9120e-07, 1.7534e-03,\n",
       "         6.6972e-02, 1.2851e-03, 9.9568e-01, 9.9999e-01],\n",
       "        [5.5534e-02, 9.9998e-01, 1.2803e-02, 1.0000e+00, 5.0751e-03, 9.9963e-01,\n",
       "         7.5758e-01, 9.2510e-01, 9.9862e-01, 9.9596e-01],\n",
       "        [2.0342e-03, 9.6809e-01, 4.0520e-01, 1.0000e+00, 2.0427e-06, 9.9989e-01,\n",
       "         8.4319e-01, 6.1550e-01, 1.0000e+00, 9.9527e-01],\n",
       "        [3.6598e-06, 9.1889e-01, 9.9822e-01, 9.9971e-01, 3.3709e-06, 9.9756e-01,\n",
       "         7.6777e-03, 9.1780e-01, 1.0000e+00, 9.9995e-01],\n",
       "        [2.4830e-05, 1.0000e+00, 7.6398e-01, 9.8727e-01, 1.7963e-06, 9.4833e-01,\n",
       "         3.3313e-02, 1.0342e-04, 9.9997e-01, 1.0000e+00],\n",
       "        [2.3925e-03, 9.9992e-01, 1.0000e+00, 9.7685e-01, 8.0165e-03, 9.9996e-01,\n",
       "         7.6006e-03, 6.1152e-01, 1.0000e+00, 9.9996e-01],\n",
       "        [3.6736e-03, 9.9896e-01, 9.9988e-01, 9.9993e-01, 4.0398e-05, 9.9990e-01,\n",
       "         9.9204e-01, 8.2911e-01, 9.9999e-01, 1.0000e+00],\n",
       "        [4.4161e-03, 1.0000e+00, 2.1942e-01, 9.9907e-01, 9.3074e-09, 9.9533e-01,\n",
       "         8.4270e-01, 1.0694e-01, 1.0000e+00, 9.9999e-01],\n",
       "        [1.6832e-05, 9.9987e-01, 2.7707e-01, 9.9999e-01, 1.5475e-06, 9.6754e-01,\n",
       "         9.9760e-01, 9.2205e-01, 9.9972e-01, 9.9860e-01],\n",
       "        [8.9402e-04, 9.9997e-01, 6.0474e-01, 9.9984e-01, 7.1825e-07, 7.8729e-01,\n",
       "         4.6151e-01, 3.8606e-01, 9.9342e-01, 1.0000e+00],\n",
       "        [1.3353e-03, 1.0000e+00, 6.1242e-01, 9.9999e-01, 3.0840e-03, 9.1099e-01,\n",
       "         9.5752e-01, 1.6519e-01, 9.9920e-01, 9.9946e-01],\n",
       "        [1.0483e-03, 9.9922e-01, 9.4208e-01, 9.9956e-01, 1.7930e-05, 9.9716e-01,\n",
       "         2.1635e-01, 2.1649e-02, 1.0000e+00, 1.0000e+00],\n",
       "        [1.1761e-03, 9.4080e-01, 9.3937e-01, 9.9998e-01, 6.7566e-07, 7.7029e-01,\n",
       "         9.9866e-01, 8.5938e-05, 9.9997e-01, 9.5639e-01],\n",
       "        [2.0075e-06, 9.9984e-01, 6.9689e-02, 9.9996e-01, 9.3393e-04, 9.8559e-01,\n",
       "         2.3169e-03, 3.1514e-01, 9.9906e-01, 1.0000e+00],\n",
       "        [1.3692e-04, 9.9688e-01, 3.4698e-02, 9.9999e-01, 7.2623e-05, 5.2083e-01,\n",
       "         9.5775e-01, 1.2701e-02, 9.3928e-01, 9.9999e-01],\n",
       "        [1.7415e-01, 9.9988e-01, 4.2176e-01, 9.9422e-01, 1.0764e-04, 9.8248e-01,\n",
       "         3.1140e-01, 9.9653e-01, 9.9971e-01, 8.8184e-01],\n",
       "        [1.0696e-03, 9.9944e-01, 3.1265e-01, 1.0000e+00, 1.8709e-08, 9.9546e-01,\n",
       "         9.0892e-01, 4.2237e-02, 1.0000e+00, 1.0000e+00],\n",
       "        [1.6826e-02, 9.9961e-01, 9.2728e-01, 9.9996e-01, 6.3308e-06, 9.9997e-01,\n",
       "         3.4128e-01, 9.7799e-01, 1.0000e+00, 9.9999e-01],\n",
       "        [2.3493e-02, 1.0000e+00, 8.8204e-01, 9.8054e-01, 2.4479e-08, 9.9854e-01,\n",
       "         2.6170e-03, 5.7258e-01, 6.7731e-01, 9.8703e-01],\n",
       "        [4.4477e-04, 9.9757e-01, 1.0000e+00, 1.0000e+00, 1.9582e-08, 9.9959e-01,\n",
       "         3.0301e-02, 9.8437e-01, 9.9510e-01, 1.0000e+00],\n",
       "        [3.1159e-03, 7.0853e-01, 1.4497e-03, 1.0000e+00, 1.7621e-07, 9.9990e-01,\n",
       "         2.7454e-02, 1.5262e-02, 9.9928e-01, 9.9963e-01],\n",
       "        [2.7239e-03, 6.4369e-02, 9.9851e-01, 1.0000e+00, 2.5492e-01, 8.0281e-01,\n",
       "         9.8318e-01, 1.0451e-03, 9.9999e-01, 9.9990e-01],\n",
       "        [1.8358e-01, 9.9930e-01, 9.9941e-01, 9.9663e-01, 2.1041e-06, 9.8173e-01,\n",
       "         1.3773e-01, 4.5225e-02, 9.9999e-01, 1.0000e+00],\n",
       "        [7.2420e-05, 1.0000e+00, 9.4954e-01, 9.9998e-01, 1.7966e-04, 1.5625e-01,\n",
       "         9.1803e-01, 2.2939e-04, 2.3386e-01, 9.9993e-01],\n",
       "        [1.3798e-01, 9.9833e-01, 9.9998e-01, 9.4265e-01, 4.4672e-04, 2.9590e-03,\n",
       "         9.9433e-01, 1.3748e-01, 1.0000e+00, 9.9924e-01],\n",
       "        [4.2049e-04, 9.9250e-01, 1.5628e-01, 1.0000e+00, 1.4284e-03, 4.0413e-05,\n",
       "         9.9784e-01, 1.8387e-01, 9.9989e-01, 1.0000e+00],\n",
       "        [2.0948e-04, 1.0000e+00, 9.5613e-01, 9.9744e-01, 2.3801e-04, 9.9929e-01,\n",
       "         4.0690e-01, 3.3046e-01, 1.0000e+00, 1.0000e+00],\n",
       "        [7.9725e-01, 9.6240e-01, 5.5227e-03, 9.9955e-01, 6.0566e-07, 8.1844e-01,\n",
       "         5.8679e-02, 9.6357e-01, 5.6041e-01, 9.3424e-01],\n",
       "        [2.0402e-04, 9.9875e-01, 9.9978e-01, 9.9989e-01, 1.3972e-03, 2.8533e-01,\n",
       "         2.5564e-04, 7.2974e-02, 1.0000e+00, 1.0000e+00],\n",
       "        [7.4191e-06, 9.9996e-01, 9.5938e-01, 9.9974e-01, 3.7773e-05, 1.5973e-01,\n",
       "         9.8934e-01, 3.6522e-01, 9.9990e-01, 9.8679e-01],\n",
       "        [2.4675e-02, 1.0000e+00, 9.9502e-01, 9.9451e-01, 5.5324e-02, 9.2848e-01,\n",
       "         9.8816e-02, 2.2316e-02, 5.3519e-01, 1.0000e+00],\n",
       "        [2.0103e-01, 1.0000e+00, 9.9994e-01, 9.9828e-01, 4.4844e-04, 9.9555e-01,\n",
       "         7.6263e-01, 4.4956e-01, 7.0979e-01, 9.9987e-01],\n",
       "        [1.2686e-02, 9.9933e-01, 9.9830e-01, 9.9971e-01, 3.9245e-05, 2.3852e-01,\n",
       "         9.7822e-01, 7.9973e-01, 5.3343e-01, 9.9996e-01],\n",
       "        [5.1151e-03, 9.9998e-01, 2.9415e-01, 9.9990e-01, 3.6125e-06, 9.6613e-01,\n",
       "         5.8874e-04, 1.5881e-02, 1.0000e+00, 9.7840e-01],\n",
       "        [1.4641e-01, 9.9993e-01, 9.9936e-01, 9.8416e-01, 6.8713e-02, 9.7355e-01,\n",
       "         9.9997e-01, 9.9532e-01, 5.9650e-02, 9.9976e-01],\n",
       "        [4.5838e-06, 9.9364e-01, 5.3217e-01, 9.9923e-01, 4.1348e-05, 9.9611e-01,\n",
       "         3.7806e-01, 8.3055e-01, 1.0000e+00, 9.9998e-01],\n",
       "        [5.1427e-08, 9.8272e-01, 5.5437e-01, 9.9997e-01, 5.3275e-02, 9.2304e-02,\n",
       "         9.9730e-01, 9.6802e-02, 9.9997e-01, 9.8711e-01],\n",
       "        [7.2525e-03, 9.9027e-01, 5.4584e-01, 1.0000e+00, 2.1002e-05, 7.5168e-01,\n",
       "         8.5884e-01, 9.9999e-01, 1.0000e+00, 1.0000e+00],\n",
       "        [7.6255e-06, 1.0000e+00, 9.9999e-01, 9.9975e-01, 7.6193e-07, 9.9469e-01,\n",
       "         4.1228e-02, 9.6494e-01, 9.8822e-01, 1.0000e+00],\n",
       "        [4.8116e-04, 9.3311e-01, 9.7081e-01, 9.9999e-01, 5.0063e-05, 3.6045e-01,\n",
       "         9.3320e-01, 6.8806e-01, 9.9988e-01, 1.0000e+00],\n",
       "        [1.4725e-04, 9.9990e-01, 3.5352e-01, 8.7131e-01, 8.1552e-05, 7.6027e-01,\n",
       "         8.1007e-03, 1.5814e-02, 1.0000e+00, 9.9931e-01],\n",
       "        [5.2598e-02, 9.9998e-01, 1.0000e+00, 9.8383e-01, 4.1713e-06, 7.7540e-01,\n",
       "         9.9183e-02, 6.8714e-04, 9.9955e-01, 1.0000e+00],\n",
       "        [3.6613e-03, 9.9999e-01, 9.9166e-01, 1.0000e+00, 9.8108e-05, 9.9991e-01,\n",
       "         2.4577e-01, 9.8649e-01, 9.9707e-01, 9.9999e-01],\n",
       "        [2.1145e-01, 9.9990e-01, 4.1985e-05, 2.3813e-01, 1.0242e-01, 8.7338e-01,\n",
       "         9.9994e-01, 9.4527e-04, 9.9584e-01, 9.9742e-01],\n",
       "        [5.6337e-06, 1.0000e+00, 2.9887e-01, 9.9973e-01, 1.4079e-03, 9.8484e-01,\n",
       "         9.9998e-01, 2.5042e-04, 9.9794e-01, 9.9998e-01],\n",
       "        [1.2932e-03, 9.7485e-01, 6.1024e-02, 9.7331e-01, 1.0115e-04, 9.9811e-01,\n",
       "         6.8107e-03, 1.8103e-01, 9.8690e-01, 1.0000e+00],\n",
       "        [1.1428e-03, 1.0000e+00, 7.0835e-04, 9.9008e-01, 4.6696e-07, 9.9906e-01,\n",
       "         5.5170e-01, 1.9642e-01, 8.9978e-01, 9.9966e-01],\n",
       "        [3.0467e-06, 1.0000e+00, 9.9537e-01, 9.9997e-01, 1.6994e-03, 9.7283e-01,\n",
       "         9.9919e-01, 1.0450e-01, 7.2580e-01, 1.0000e+00],\n",
       "        [3.1040e-03, 9.9996e-01, 9.0930e-01, 9.9990e-01, 1.9755e-04, 9.6761e-01,\n",
       "         4.1631e-01, 2.0822e-02, 9.9674e-01, 7.4640e-01],\n",
       "        [9.3821e-01, 9.9994e-01, 8.1391e-01, 9.9574e-01, 9.9940e-01, 9.4744e-01,\n",
       "         2.3073e-03, 4.6526e-03, 9.1898e-01, 4.0080e-02]])"
      ]
     },
     "execution_count": 8,
     "metadata": {},
     "output_type": "execute_result"
    }
   ],
   "source": [
    "## Your solution\n",
    "\n",
    "def sigmoid(x):\n",
    "    return 1/(1+torch.exp(-x))\n",
    "\n",
    "# Flatten the input images\n",
    "inputs = images.view(images.shape[0], -1)\n",
    "\n",
    "# Create parameters\n",
    "w1 = torch.randn(784, 256)\n",
    "b1 = torch.randn(256)\n",
    "\n",
    "w2 = torch.randn(256, 10)\n",
    "b2 = torch.randn(10)\n",
    "\n",
    "h = sigmoid(torch.mm(inputs, w1) + b1)\n",
    "\n",
    "out = sigmoid(torch.mm(h, w2) + b2) # output of your network, should have shape (64,10)\n",
    "out"
   ]
  },
  {
   "cell_type": "markdown",
   "metadata": {},
   "source": [
    "Now we have 10 outputs for our network. We want to pass in an image to our network and get out a probability distribution over the classes that tells us the likely class(es) the image belongs to. Something that looks like this:\n",
    "<img src='assets/image_distribution.png' width=500px>\n",
    "\n",
    "Here we see that the probability for each class is roughly the same. This is representing an untrained network, it hasn't seen any data yet so it just returns a uniform distribution with equal probabilities for each class.\n",
    "\n",
    "To calculate this probability distribution, we often use the [**softmax** function](https://en.wikipedia.org/wiki/Softmax_function). Mathematically this looks like\n",
    "\n",
    "$$\n",
    "\\Large \\sigma(x_i) = \\cfrac{e^{x_i}}{\\sum_k^K{e^{x_k}}}\n",
    "$$\n",
    "\n",
    "What this does is squish each input $x_i$ between 0 and 1 and normalizes the values to give you a proper probability distribution where the probabilites sum up to one.\n",
    "\n",
    "> **Exercise:** Implement a function `softmax` that performs the softmax calculation and returns probability distributions for each example in the batch. Note that you'll need to pay attention to the shapes when doing this. If you have a tensor `a` with shape `(64, 10)` and a tensor `b` with shape `(64,)`, doing `a/b` will give you an error because PyTorch will try to do the division across the columns (called broadcasting) but you'll get a size mismatch. The way to think about this is for each of the 64 examples, you only want to divide by one value, the sum in the denominator. So you need `b` to have a shape of `(64, 1)`. This way PyTorch will divide the 10 values in each row of `a` by the one value in each row of `b`. Pay attention to how you take the sum as well. You'll need to define the `dim` keyword in `torch.sum`. Setting `dim=0` takes the sum across the rows while `dim=1` takes the sum across the columns."
   ]
  },
  {
   "cell_type": "code",
   "execution_count": 9,
   "metadata": {
    "collapsed": true
   },
   "outputs": [
    {
     "name": "stdout",
     "output_type": "stream",
     "text": [
      "torch.Size([64, 10])\n",
      "tensor([1.0000, 1.0000, 1.0000, 1.0000, 1.0000, 1.0000, 1.0000, 1.0000, 1.0000,\n",
      "        1.0000, 1.0000, 1.0000, 1.0000, 1.0000, 1.0000, 1.0000, 1.0000, 1.0000,\n",
      "        1.0000, 1.0000, 1.0000, 1.0000, 1.0000, 1.0000, 1.0000, 1.0000, 1.0000,\n",
      "        1.0000, 1.0000, 1.0000, 1.0000, 1.0000, 1.0000, 1.0000, 1.0000, 1.0000,\n",
      "        1.0000, 1.0000, 1.0000, 1.0000, 1.0000, 1.0000, 1.0000, 1.0000, 1.0000,\n",
      "        1.0000, 1.0000, 1.0000, 1.0000, 1.0000, 1.0000, 1.0000, 1.0000, 1.0000,\n",
      "        1.0000, 1.0000, 1.0000, 1.0000, 1.0000, 1.0000, 1.0000, 1.0000, 1.0000,\n",
      "        1.0000])\n"
     ]
    }
   ],
   "source": [
    "def softmax(x):\n",
    "    return torch.exp(x) / torch.sum(torch.exp(x), dim=1).view(-1, 1)\n",
    "\n",
    "# Here, out should be the output of the network in the previous excercise with shape (64,10)\n",
    "probabilities = softmax(out)\n",
    "\n",
    "# Does it have the right shape? Should be (64, 10)\n",
    "print(probabilities.shape)\n",
    "# Does it sum to 1?\n",
    "print(probabilities.sum(dim=1))"
   ]
  },
  {
   "cell_type": "markdown",
   "metadata": {},
   "source": [
    "## Building networks with PyTorch\n",
    "\n",
    "PyTorch provides a module `nn` that makes building networks much simpler. Here I'll show you how to build the same one as above with 784 inputs, 256 hidden units, 10 output units and a softmax output."
   ]
  },
  {
   "cell_type": "code",
   "execution_count": 10,
   "metadata": {
    "collapsed": true
   },
   "outputs": [],
   "source": [
    "from torch import nn"
   ]
  },
  {
   "cell_type": "code",
   "execution_count": 11,
   "metadata": {
    "collapsed": true
   },
   "outputs": [],
   "source": [
    "class Network(nn.Module):\n",
    "    def __init__(self):\n",
    "        super().__init__()\n",
    "        \n",
    "        # Inputs to hidden layer linear transformation\n",
    "        self.hidden = nn.Linear(784, 256)\n",
    "        # Output layer, 10 units - one for each digit\n",
    "        self.output = nn.Linear(256, 10)\n",
    "        \n",
    "        # Define sigmoid activation and softmax output \n",
    "        self.sigmoid = nn.Sigmoid()\n",
    "        self.softmax = nn.Softmax(dim=1)\n",
    "        \n",
    "    def forward(self, x):\n",
    "        # Pass the input tensor through each of our operations\n",
    "        x = self.hidden(x)\n",
    "        x = self.sigmoid(x)\n",
    "        x = self.output(x)\n",
    "        x = self.softmax(x)\n",
    "        \n",
    "        return x"
   ]
  },
  {
   "cell_type": "markdown",
   "metadata": {},
   "source": [
    "Let's go through this bit by bit.\n",
    "\n",
    "```python\n",
    "class Network(nn.Module):\n",
    "```\n",
    "\n",
    "Here we're inheriting from `nn.Module`. Combined with `super().__init__()` this creates a class that tracks the architecture and provides a lot of useful methods and attributes. It is mandatory to inherit from `nn.Module` when you're creating a class for your network. The name of the class itself can be anything.\n",
    "\n",
    "```python\n",
    "self.hidden = nn.Linear(784, 256)\n",
    "```\n",
    "\n",
    "This line creates a module for a linear transformation, $x\\mathbf{W} + b$, with 784 inputs and 256 outputs and assigns it to `self.hidden`. The module automatically creates the weight and bias tensors which we'll use in the `forward` method. You can access the weight and bias tensors once the network (`net`) is created with `net.hidden.weight` and `net.hidden.bias`.\n",
    "\n",
    "```python\n",
    "self.output = nn.Linear(256, 10)\n",
    "```\n",
    "\n",
    "Similarly, this creates another linear transformation with 256 inputs and 10 outputs.\n",
    "\n",
    "```python\n",
    "self.sigmoid = nn.Sigmoid()\n",
    "self.softmax = nn.Softmax(dim=1)\n",
    "```\n",
    "\n",
    "Here I defined operations for the sigmoid activation and softmax output. Setting `dim=1` in `nn.Softmax(dim=1)` calculates softmax across the columns.\n",
    "\n",
    "```python\n",
    "def forward(self, x):\n",
    "```\n",
    "\n",
    "PyTorch networks created with `nn.Module` must have a `forward` method defined. It takes in a tensor `x` and passes it through the operations you defined in the `__init__` method.\n",
    "\n",
    "```python\n",
    "x = self.hidden(x)\n",
    "x = self.sigmoid(x)\n",
    "x = self.output(x)\n",
    "x = self.softmax(x)\n",
    "```\n",
    "\n",
    "Here the input tensor `x` is passed through each operation and reassigned to `x`. We can see that the input tensor goes through the hidden layer, then a sigmoid function, then the output layer, and finally the softmax function. It doesn't matter what you name the variables here, as long as the inputs and outputs of the operations match the network architecture you want to build. The order in which you define things in the `__init__` method doesn't matter, but you'll need to sequence the operations correctly in the `forward` method.\n",
    "\n",
    "Now we can create a `Network` object."
   ]
  },
  {
   "cell_type": "code",
   "execution_count": 12,
   "metadata": {
    "collapsed": true
   },
   "outputs": [
    {
     "data": {
      "text/plain": [
       "Network(\n",
       "  (hidden): Linear(in_features=784, out_features=256, bias=True)\n",
       "  (output): Linear(in_features=256, out_features=10, bias=True)\n",
       "  (sigmoid): Sigmoid()\n",
       "  (softmax): Softmax(dim=1)\n",
       ")"
      ]
     },
     "execution_count": 12,
     "metadata": {},
     "output_type": "execute_result"
    }
   ],
   "source": [
    "# Create the network and look at it's text representation\n",
    "model = Network()\n",
    "model"
   ]
  },
  {
   "cell_type": "markdown",
   "metadata": {},
   "source": [
    "You can define the network somewhat more concisely and clearly using the `torch.nn.functional` module. This is the most common way you'll see networks defined as many operations are simple element-wise functions. We normally import this module as `F`, `import torch.nn.functional as F`."
   ]
  },
  {
   "cell_type": "code",
   "execution_count": 13,
   "metadata": {
    "collapsed": true
   },
   "outputs": [],
   "source": [
    "import torch.nn.functional as F\n",
    "\n",
    "class Network(nn.Module):\n",
    "    def __init__(self):\n",
    "        super().__init__()\n",
    "        # Inputs to hidden layer linear transformation\n",
    "        self.hidden = nn.Linear(784, 256)\n",
    "        # Output layer, 10 units - one for each digit\n",
    "        self.output = nn.Linear(256, 10)\n",
    "        \n",
    "    def forward(self, x):\n",
    "        # Hidden layer with sigmoid activation\n",
    "        x = F.sigmoid(self.hidden(x))\n",
    "        # Output layer with softmax activation\n",
    "        x = F.softmax(self.output(x), dim=1)\n",
    "        \n",
    "        return x"
   ]
  },
  {
   "cell_type": "markdown",
   "metadata": {},
   "source": [
    "### Activation functions\n",
    "\n",
    "So far we've only been looking at the sigmoid activation function, but in general any function can be used as an activation function. The only requirement is that for a network to approximate a non-linear function, the activation functions must be non-linear. Here are a few more examples of common activation functions: Tanh (hyperbolic tangent), and ReLU (rectified linear unit).\n",
    "\n",
    "<img src=\"assets/activation.png\" width=700px>\n",
    "\n",
    "In practice, the ReLU function is used almost exclusively as the activation function for hidden layers."
   ]
  },
  {
   "cell_type": "markdown",
   "metadata": {},
   "source": [
    "### Your Turn to Build a Network\n",
    "\n",
    "<img src=\"assets/mlp_mnist.png\" width=600px>\n",
    "\n",
    "> **Exercise:** Create a network with 784 input units, a hidden layer with 128 units and a ReLU activation, then a hidden layer with 64 units and a ReLU activation, and finally an output layer with a softmax activation as shown above. You can use a ReLU activation with the `nn.ReLU` module or `F.relu` function.\n",
    "\n",
    "It's good practice to name your layers by their type of network, for instance 'fc' to represent a fully-connected layer. As you code your solution, use `fc1`, `fc2`, and `fc3` as your layer names."
   ]
  },
  {
   "cell_type": "code",
   "execution_count": 19,
   "metadata": {
    "collapsed": true,
    "scrolled": true
   },
   "outputs": [],
   "source": [
    "# Your solution here\n",
    "class Network(nn.Module):\n",
    "\n",
    "    def __init__(self):\n",
    "        super().__init__()\n",
    "\n",
    "        self.fc1 = nn.Linear(784, 128)\n",
    "        self.fc2 = nn.Linear(128, 64)\n",
    "        self.fc3 = nn.Linear(64, 10)\n",
    "\n",
    "    def forward(self, x):\n",
    "        x = F.relu(self.fc1(x))\n",
    "        x = F.relu(self.fc2(x))\n",
    "        x = F.softmax(self.fc3(x), dim=1)\n",
    "\n",
    "        return x"
   ]
  },
  {
   "cell_type": "code",
   "execution_count": 22,
   "metadata": {},
   "outputs": [
    {
     "data": {
      "text/plain": [
       "Network(\n",
       "  (fc1): Linear(in_features=784, out_features=128, bias=True)\n",
       "  (fc2): Linear(in_features=128, out_features=64, bias=True)\n",
       "  (fc3): Linear(in_features=64, out_features=10, bias=True)\n",
       ")"
      ]
     },
     "execution_count": 22,
     "metadata": {},
     "output_type": "execute_result"
    }
   ],
   "source": [
    "model = Network()\n",
    "model"
   ]
  },
  {
   "cell_type": "markdown",
   "metadata": {},
   "source": [
    "### Initializing weights and biases\n",
    "\n",
    "The weights and such are automatically initialized for you, but it's possible to customize how they are initialized. The weights and biases are tensors attached to the layer you defined, you can get them with `model.fc1.weight` for instance."
   ]
  },
  {
   "cell_type": "code",
   "execution_count": 23,
   "metadata": {
    "collapsed": true
   },
   "outputs": [
    {
     "name": "stdout",
     "output_type": "stream",
     "text": [
      "Parameter containing:\n",
      "tensor([[-0.0225, -0.0214, -0.0291,  ..., -0.0191,  0.0060,  0.0238],\n",
      "        [ 0.0221,  0.0143,  0.0226,  ..., -0.0139, -0.0286,  0.0228],\n",
      "        [-0.0293, -0.0017, -0.0330,  ..., -0.0154,  0.0110,  0.0218],\n",
      "        ...,\n",
      "        [ 0.0131, -0.0115,  0.0235,  ...,  0.0241,  0.0215,  0.0350],\n",
      "        [-0.0168,  0.0281,  0.0234,  ..., -0.0299,  0.0189, -0.0104],\n",
      "        [-0.0123, -0.0171, -0.0275,  ...,  0.0314,  0.0064,  0.0240]],\n",
      "       requires_grad=True)\n",
      "Parameter containing:\n",
      "tensor([-0.0068, -0.0230,  0.0065, -0.0215, -0.0022, -0.0131, -0.0061, -0.0216,\n",
      "         0.0012, -0.0046, -0.0067, -0.0024, -0.0103, -0.0027,  0.0038, -0.0269,\n",
      "         0.0347, -0.0243, -0.0298, -0.0132,  0.0231,  0.0353, -0.0111,  0.0314,\n",
      "        -0.0308, -0.0142, -0.0024,  0.0312, -0.0150, -0.0286, -0.0110, -0.0288,\n",
      "         0.0008, -0.0248,  0.0338, -0.0091,  0.0271,  0.0190, -0.0128,  0.0166,\n",
      "        -0.0170,  0.0048,  0.0027, -0.0172, -0.0291,  0.0167, -0.0162, -0.0017,\n",
      "         0.0180,  0.0193, -0.0006,  0.0009, -0.0124,  0.0038, -0.0284, -0.0173,\n",
      "         0.0145,  0.0347, -0.0046,  0.0056, -0.0152, -0.0017, -0.0206, -0.0291,\n",
      "         0.0214,  0.0328, -0.0311,  0.0338, -0.0011, -0.0007, -0.0345, -0.0196,\n",
      "         0.0088, -0.0285, -0.0231,  0.0322,  0.0316, -0.0095,  0.0254, -0.0340,\n",
      "         0.0143,  0.0066, -0.0169, -0.0017, -0.0262,  0.0318,  0.0039, -0.0104,\n",
      "        -0.0351, -0.0284, -0.0244,  0.0269,  0.0094, -0.0134, -0.0072,  0.0008,\n",
      "        -0.0182,  0.0215,  0.0233,  0.0343, -0.0325, -0.0073, -0.0062, -0.0116,\n",
      "        -0.0061, -0.0161,  0.0243, -0.0018, -0.0145, -0.0178, -0.0193,  0.0061,\n",
      "         0.0036,  0.0123, -0.0076, -0.0241, -0.0061,  0.0004,  0.0173,  0.0139,\n",
      "        -0.0139,  0.0155,  0.0221,  0.0058, -0.0206, -0.0174, -0.0056,  0.0040],\n",
      "       requires_grad=True)\n"
     ]
    }
   ],
   "source": [
    "print(model.fc1.weight)\n",
    "print(model.fc1.bias)"
   ]
  },
  {
   "cell_type": "markdown",
   "metadata": {},
   "source": [
    "For custom initialization, we want to modify these tensors in place. These are actually autograd *Variables*, so we need to get back the actual tensors with `model.fc1.weight.data`. Once we have the tensors, we can fill them with zeros (for biases) or random normal values."
   ]
  },
  {
   "cell_type": "code",
   "execution_count": null,
   "metadata": {
    "collapsed": true
   },
   "outputs": [],
   "source": [
    "# Set biases to all zeros\n",
    "model.fc1.bias.data.fill_(0)"
   ]
  },
  {
   "cell_type": "code",
   "execution_count": null,
   "metadata": {
    "collapsed": true
   },
   "outputs": [],
   "source": [
    "# sample from random normal with standard dev = 0.01\n",
    "model.fc1.weight.data.normal_(std=0.01)"
   ]
  },
  {
   "cell_type": "markdown",
   "metadata": {},
   "source": [
    "### Forward pass\n",
    "\n",
    "Now that we have a network, let's see what happens when we pass in an image."
   ]
  },
  {
   "cell_type": "code",
   "execution_count": null,
   "metadata": {
    "collapsed": true
   },
   "outputs": [],
   "source": [
    "# Grab some data \n",
    "dataiter = iter(trainloader)\n",
    "images, labels = dataiter.next()\n",
    "\n",
    "# Resize images into a 1D vector, new shape is (batch size, color channels, image pixels) \n",
    "images.resize_(64, 1, 784)\n",
    "# or images.resize_(images.shape[0], 1, 784) to automatically get batch size\n",
    "\n",
    "# Forward pass through the network\n",
    "img_idx = 0\n",
    "ps = model.forward(images[img_idx,:])\n",
    "\n",
    "img = images[img_idx]\n",
    "helper.view_classify(img.view(1, 28, 28), ps)"
   ]
  },
  {
   "cell_type": "markdown",
   "metadata": {},
   "source": [
    "As you can see above, our network has basically no idea what this digit is. It's because we haven't trained it yet, all the weights are random!\n",
    "\n",
    "### Using `nn.Sequential`\n",
    "\n",
    "PyTorch provides a convenient way to build networks like this where a tensor is passed sequentially through operations, `nn.Sequential` ([documentation](https://pytorch.org/docs/master/nn.html#torch.nn.Sequential)). Using this to build the equivalent network:"
   ]
  },
  {
   "cell_type": "code",
   "execution_count": null,
   "metadata": {
    "collapsed": true
   },
   "outputs": [],
   "source": [
    "# Hyperparameters for our network\n",
    "input_size = 784\n",
    "hidden_sizes = [128, 64]\n",
    "output_size = 10\n",
    "\n",
    "# Build a feed-forward network\n",
    "model = nn.Sequential(nn.Linear(input_size, hidden_sizes[0]),\n",
    "                      nn.ReLU(),\n",
    "                      nn.Linear(hidden_sizes[0], hidden_sizes[1]),\n",
    "                      nn.ReLU(),\n",
    "                      nn.Linear(hidden_sizes[1], output_size),\n",
    "                      nn.Softmax(dim=1))\n",
    "print(model)\n",
    "\n",
    "# Forward pass through the network and display output\n",
    "images, labels = next(iter(trainloader))\n",
    "images.resize_(images.shape[0], 1, 784)\n",
    "ps = model.forward(images[0,:])\n",
    "helper.view_classify(images[0].view(1, 28, 28), ps)"
   ]
  },
  {
   "cell_type": "markdown",
   "metadata": {},
   "source": [
    "Here our model is the same as before: 784 input units, a hidden layer with 128 units, ReLU activation, 64 unit hidden layer, another ReLU, then the output layer with 10 units, and the softmax output.\n",
    "\n",
    "The operations are available by passing in the appropriate index. For example, if you want to get first Linear operation and look at the weights, you'd use `model[0]`."
   ]
  },
  {
   "cell_type": "code",
   "execution_count": null,
   "metadata": {
    "collapsed": true
   },
   "outputs": [],
   "source": [
    "print(model[0])\n",
    "model[0].weight"
   ]
  },
  {
   "cell_type": "markdown",
   "metadata": {},
   "source": [
    "You can also pass in an `OrderedDict` to name the individual layers and operations, instead of using incremental integers. Note that dictionary keys must be unique, so _each operation must have a different name_."
   ]
  },
  {
   "cell_type": "code",
   "execution_count": null,
   "metadata": {
    "collapsed": true
   },
   "outputs": [],
   "source": [
    "from collections import OrderedDict\n",
    "model = nn.Sequential(OrderedDict([\n",
    "                      ('fc1', nn.Linear(input_size, hidden_sizes[0])),\n",
    "                      ('relu1', nn.ReLU()),\n",
    "                      ('fc2', nn.Linear(hidden_sizes[0], hidden_sizes[1])),\n",
    "                      ('relu2', nn.ReLU()),\n",
    "                      ('output', nn.Linear(hidden_sizes[1], output_size)),\n",
    "                      ('softmax', nn.Softmax(dim=1))]))\n",
    "model"
   ]
  },
  {
   "cell_type": "markdown",
   "metadata": {},
   "source": [
    "Now you can access layers either by integer or the name"
   ]
  },
  {
   "cell_type": "code",
   "execution_count": null,
   "metadata": {
    "collapsed": true
   },
   "outputs": [],
   "source": [
    "print(model[0])\n",
    "print(model.fc1)"
   ]
  },
  {
   "cell_type": "markdown",
   "metadata": {},
   "source": [
    "In the next notebook, we'll see how we can train a neural network to accuractly predict the numbers appearing in the MNIST images."
   ]
  }
 ],
 "metadata": {
  "kernelspec": {
   "display_name": "Python [default]",
   "language": "python",
   "name": "python3"
  },
  "language_info": {
   "codemirror_mode": {
    "name": "ipython",
    "version": 3
   },
   "file_extension": ".py",
   "mimetype": "text/x-python",
   "name": "python",
   "nbconvert_exporter": "python",
   "pygments_lexer": "ipython3",
   "version": "3.8.10"
  }
 },
 "nbformat": 4,
 "nbformat_minor": 2
}
